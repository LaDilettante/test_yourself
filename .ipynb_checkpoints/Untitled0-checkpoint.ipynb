{
 "metadata": {
  "name": "",
  "signature": "sha256:e139717baf185ce8b00d3c1870958abf2e569c9cda9be4f0a6421dba9d6a8e91"
 },
 "nbformat": 3,
 "nbformat_minor": 0,
 "worksheets": []
}